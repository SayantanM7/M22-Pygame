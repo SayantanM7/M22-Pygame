{
 "cells": [
  {
   "cell_type": "code",
   "execution_count": 1,
   "metadata": {},
   "outputs": [
    {
     "name": "stdout",
     "output_type": "stream",
     "text": [
      "pygame 2.6.1 (SDL 2.28.4, Python 3.12.4)\n",
      "Hello from the pygame community. https://www.pygame.org/contribute.html\n"
     ]
    },
    {
     "ename": "error",
     "evalue": "video system not initialized",
     "output_type": "error",
     "traceback": [
      "\u001b[1;31m---------------------------------------------------------------------------\u001b[0m",
      "\u001b[1;31merror\u001b[0m                                     Traceback (most recent call last)",
      "Cell \u001b[1;32mIn[1], line 36\u001b[0m\n\u001b[0;32m     33\u001b[0m \t\tquit()  \n\u001b[0;32m     35\u001b[0m \u001b[38;5;66;03m# Part of event loop\u001b[39;00m\n\u001b[1;32m---> 36\u001b[0m pygame\u001b[38;5;241m.\u001b[39mdisplay\u001b[38;5;241m.\u001b[39mflip()\n\u001b[0;32m     37\u001b[0m clock\u001b[38;5;241m.\u001b[39mtick(\u001b[38;5;241m30\u001b[39m)\n",
      "\u001b[1;31merror\u001b[0m: video system not initialized"
     ]
    },
    {
     "ename": "",
     "evalue": "",
     "output_type": "error",
     "traceback": [
      "\u001b[1;31mThe Kernel crashed while executing code in the current cell or a previous cell. \n",
      "\u001b[1;31mPlease review the code in the cell(s) to identify a possible cause of the failure. \n",
      "\u001b[1;31mClick <a href='https://aka.ms/vscodeJupyterKernelCrash'>here</a> for more info. \n",
      "\u001b[1;31mView Jupyter <a href='command:jupyter.viewOutput'>log</a> for further details."
     ]
    }
   ],
   "source": [
    "import pygame  \n",
    "pygame.init()  \n",
    "grey = (58,58,58)  \n",
    "\n",
    "# Clock\n",
    "clock = pygame.time.Clock()\n",
    "  \n",
    "display_surface = pygame.display.set_mode((500, 500))  \n",
    "  \n",
    "# set the pygame window name   \n",
    "pygame.display.set_caption('My First Game Screen')  \n",
    "  \n",
    "image = pygame.image.load('pokemon.png')  \n",
    "\n",
    "# Set the size for the image\n",
    "DEFAULT_IMAGE_SIZE = (300,300)\n",
    "  \n",
    "# Scale the image to your needed size\n",
    "image = pygame.transform.scale(image, DEFAULT_IMAGE_SIZE)\n",
    "\n",
    "# Set a default position\n",
    "DEFAULT_IMAGE_POSITION = (100,100)\n",
    "\n",
    "# infinite loop   \n",
    "while True:  \n",
    "\tdisplay_surface.fill(grey)  \n",
    "\tdisplay_surface.blit(image, DEFAULT_IMAGE_POSITION)  \n",
    "\n",
    "\tfor event in pygame.event.get():  \n",
    "\t\tif event.type == pygame.QUIT:  \n",
    "\t\t\tpygame.quit()  \n",
    "\t\t\t# quit the program.   \n",
    "\t\t\tquit()  \n",
    "\t\t\n",
    "\t# Part of event loop\n",
    "\tpygame.display.flip()\n",
    "\tclock.tick(30)"
   ]
  },
  {
   "cell_type": "code",
   "execution_count": 1,
   "metadata": {},
   "outputs": [
    {
     "name": "stdout",
     "output_type": "stream",
     "text": [
      "pygame 2.6.1 (SDL 2.28.4, Python 3.12.4)\n",
      "Hello from the pygame community. https://www.pygame.org/contribute.html\n"
     ]
    },
    {
     "ename": "",
     "evalue": "",
     "output_type": "error",
     "traceback": [
      "\u001b[1;31mThe Kernel crashed while executing code in the current cell or a previous cell. \n",
      "\u001b[1;31mPlease review the code in the cell(s) to identify a possible cause of the failure. \n",
      "\u001b[1;31mClick <a href='https://aka.ms/vscodeJupyterKernelCrash'>here</a> for more info. \n",
      "\u001b[1;31mView Jupyter <a href='command:jupyter.viewOutput'>log</a> for further details."
     ]
    }
   ],
   "source": [
    "import pygame  \n",
    "pygame.init()  \n",
    "screen = pygame.display.set_mode((640, 480))  \n",
    "done = False  \n",
    "  \n",
    "#load the fonts  \n",
    "font = pygame.font.SysFont(\"Times new Roman\", 36)  \n",
    "# Render the text in new surface  \n",
    "text = font.render(\"My first Game Screen\", True, (158, 16, 16))  \n",
    "\n",
    "while not done:  \n",
    "\n",
    "\tfor event in pygame.event.get():  \n",
    "\t\tif event.type == pygame.QUIT:  \n",
    "\t\t\tdone = True  \n",
    "\n",
    "\tscreen.fill((255, 255, 255))  \n",
    "\n",
    "\t#We will discuss blit() in the next topic  \n",
    "\tscreen.blit(text,(320 - text.get_width() // 2, 240 - text.get_height() // 2))  \n",
    "\tpygame.draw.rect(screen, (28,171,226), pygame.Rect(30, 30, 60, 60))\n",
    "\tpygame.display.flip()  "
   ]
  }
 ],
 "metadata": {
  "kernelspec": {
   "display_name": "base",
   "language": "python",
   "name": "python3"
  },
  "language_info": {
   "codemirror_mode": {
    "name": "ipython",
    "version": 3
   },
   "file_extension": ".py",
   "mimetype": "text/x-python",
   "name": "python",
   "nbconvert_exporter": "python",
   "pygments_lexer": "ipython3",
   "version": "3.12.4"
  }
 },
 "nbformat": 4,
 "nbformat_minor": 2
}
