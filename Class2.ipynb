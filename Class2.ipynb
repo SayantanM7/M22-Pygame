{
 "cells": [
  {
   "cell_type": "code",
   "execution_count": 1,
   "metadata": {},
   "outputs": [
    {
     "name": "stdout",
     "output_type": "stream",
     "text": [
      "pygame 2.6.1 (SDL 2.28.4, Python 3.12.4)\n",
      "Hello from the pygame community. https://www.pygame.org/contribute.html\n"
     ]
    },
    {
     "ename": "KeyboardInterrupt",
     "evalue": "",
     "output_type": "error",
     "traceback": [
      "\u001b[1;31m---------------------------------------------------------------------------\u001b[0m",
      "\u001b[1;31mKeyboardInterrupt\u001b[0m                         Traceback (most recent call last)",
      "Cell \u001b[1;32mIn[1], line 13\u001b[0m\n\u001b[0;32m     10\u001b[0m         done \u001b[38;5;241m=\u001b[39m \u001b[38;5;28;01mTrue\u001b[39;00m  \n\u001b[0;32m     11\u001b[0m pygame\u001b[38;5;241m.\u001b[39mdraw\u001b[38;5;241m.\u001b[39mrect(screen, (\u001b[38;5;241m0\u001b[39m, \u001b[38;5;241m125\u001b[39m, \u001b[38;5;241m255\u001b[39m), pygame\u001b[38;5;241m.\u001b[39mRect(\u001b[38;5;241m30\u001b[39m, \u001b[38;5;241m30\u001b[39m, \u001b[38;5;241m60\u001b[39m, \u001b[38;5;241m60\u001b[39m))    \n\u001b[1;32m---> 13\u001b[0m pygame\u001b[38;5;241m.\u001b[39mdisplay\u001b[38;5;241m.\u001b[39mflip()\n",
      "\u001b[1;31mKeyboardInterrupt\u001b[0m: "
     ]
    }
   ],
   "source": [
    "import pygame  \n",
    "  \n",
    "pygame.init()  \n",
    "screen = pygame.display.set_mode((400, 300))  \n",
    "done = False  \n",
    "  \n",
    "while not done:  \n",
    "    for event in pygame.event.get():  \n",
    "        if event.type == pygame.QUIT:  \n",
    "            done = True  \n",
    "    pygame.draw.rect(screen, (0, 125, 255), pygame.Rect(30, 30, 60, 60))    \n",
    "  \n",
    "    pygame.display.flip()  \n",
    "\n"
   ]
  },
  {
   "cell_type": "code",
   "execution_count": 1,
   "metadata": {},
   "outputs": [
    {
     "name": "stdout",
     "output_type": "stream",
     "text": [
      "pygame 2.6.1 (SDL 2.28.4, Python 3.12.4)\n",
      "Hello from the pygame community. https://www.pygame.org/contribute.html\n"
     ]
    },
    {
     "ename": "KeyboardInterrupt",
     "evalue": "",
     "output_type": "error",
     "traceback": [
      "\u001b[1;31m---------------------------------------------------------------------------\u001b[0m",
      "\u001b[1;31mKeyboardInterrupt\u001b[0m                         Traceback (most recent call last)",
      "Cell \u001b[1;32mIn[1], line 36\u001b[0m\n\u001b[0;32m     33\u001b[0m \t\u001b[38;5;66;03m# draw rectangle\u001b[39;00m\n\u001b[0;32m     34\u001b[0m     pygame\u001b[38;5;241m.\u001b[39mdraw\u001b[38;5;241m.\u001b[39mrect(screen, color, pygame\u001b[38;5;241m.\u001b[39mRect(x, y, \u001b[38;5;241m60\u001b[39m, \u001b[38;5;241m60\u001b[39m))  \n\u001b[1;32m---> 36\u001b[0m     pygame\u001b[38;5;241m.\u001b[39mdisplay\u001b[38;5;241m.\u001b[39mflip()\n",
      "\u001b[1;31mKeyboardInterrupt\u001b[0m: "
     ]
    },
    {
     "ename": "",
     "evalue": "",
     "output_type": "error",
     "traceback": [
      "\u001b[1;31mThe Kernel crashed while executing code in the current cell or a previous cell. \n",
      "\u001b[1;31mPlease review the code in the cell(s) to identify a possible cause of the failure. \n",
      "\u001b[1;31mClick <a href='https://aka.ms/vscodeJupyterKernelCrash'>here</a> for more info. \n",
      "\u001b[1;31mView Jupyter <a href='command:jupyter.viewOutput'>log</a> for further details."
     ]
    }
   ],
   "source": [
    "# import libraries\n",
    "import pygame  \n",
    "  \n",
    "# Setup Pygame window\n",
    "pygame.init()  \n",
    "screen = pygame.display.set_mode((500, 500))  \n",
    "done = False  \n",
    "is_blue = True \n",
    "# Set initial values of position of rectangle \n",
    "x = 30  \n",
    "y = 30  \n",
    "  \n",
    "while not done:\n",
    "\t# check the event type  \n",
    "    for event in pygame.event.get():  \n",
    "        if event.type == pygame.QUIT:  \n",
    "            done = True  \n",
    "\t\t# check if a key has been pressed\n",
    "        if event.type == pygame.KEYDOWN and event.key == pygame.K_SPACE:  \n",
    "            is_blue = not is_blue  \n",
    "\t\n",
    "\t# Check which key has been pressed and update value of x and y accordingly\n",
    "    pressed = pygame.key.get_pressed()  \n",
    "    if pressed[pygame.K_UP]: y -= 3  \n",
    "    if pressed[pygame.K_DOWN]: y += 3  \n",
    "    if pressed[pygame.K_LEFT]: x -= 3  \n",
    "    if pressed[pygame.K_RIGHT]: x += 3  \n",
    "\n",
    "    if is_blue:  \n",
    "        color = (0, 128, 255)  \n",
    "    else:   \n",
    "        color = (255, 100, 0)  \n",
    "\t# draw rectangle\n",
    "    pygame.draw.rect(screen, color, pygame.Rect(x, y, 60, 60))  \n",
    "  \n",
    "    pygame.display.flip()  "
   ]
  },
  {
   "cell_type": "code",
   "execution_count": 1,
   "metadata": {},
   "outputs": [
    {
     "name": "stdout",
     "output_type": "stream",
     "text": [
      "pygame 2.6.1 (SDL 2.28.4, Python 3.12.4)\n",
      "Hello from the pygame community. https://www.pygame.org/contribute.html\n"
     ]
    }
   ],
   "source": [
    "import pygame\n",
    "\n",
    "pygame.init()\n",
    "# Create the display surface object of specific dimension.\n",
    "window = pygame.display.set_mode((400, 400))\n",
    "# Fill the screen with white color\n",
    "window.fill((255, 255, 255))\n",
    "# Define colors\n",
    "GREEN = (0, 255, 0)\n",
    "# Draw solid circle\n",
    "pygame.draw.circle(window, GREEN, (300, 300), 50)\n",
    "# Draw outlined circle\n",
    "pygame.draw.circle(window, GREEN, (100, 100), 50, 3)\n",
    "# Draws the surface object to the screen.\n",
    "pygame.display.update()\n",
    "# Game loop\n",
    "running = True\n",
    "while running:\n",
    "    # Event handling\n",
    "    for event in pygame.event.get():\n",
    "        if event.type == pygame.QUIT:\n",
    "            running = False\n",
    "# Quit pygame\n",
    "pygame.quit()\n"
   ]
  }
 ],
 "metadata": {
  "kernelspec": {
   "display_name": "base",
   "language": "python",
   "name": "python3"
  },
  "language_info": {
   "codemirror_mode": {
    "name": "ipython",
    "version": 3
   },
   "file_extension": ".py",
   "mimetype": "text/x-python",
   "name": "python",
   "nbconvert_exporter": "python",
   "pygments_lexer": "ipython3",
   "version": "3.12.4"
  }
 },
 "nbformat": 4,
 "nbformat_minor": 2
}
