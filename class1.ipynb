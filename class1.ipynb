{
 "cells": [
  {
   "cell_type": "code",
   "execution_count": 2,
   "metadata": {},
   "outputs": [
    {
     "ename": "error",
     "evalue": "video system not initialized",
     "output_type": "error",
     "traceback": [
      "\u001b[1;31m---------------------------------------------------------------------------\u001b[0m",
      "\u001b[1;31merror\u001b[0m                                     Traceback (most recent call last)",
      "Cell \u001b[1;32mIn[2], line 21\u001b[0m\n\u001b[0;32m     18\u001b[0m \t\tpygame\u001b[38;5;241m.\u001b[39mquit()\n\u001b[0;32m     20\u001b[0m \u001b[38;5;66;03m# Make the changes visible\u001b[39;00m\n\u001b[1;32m---> 21\u001b[0m pygame\u001b[38;5;241m.\u001b[39mdisplay\u001b[38;5;241m.\u001b[39mflip()\n",
      "\u001b[1;31merror\u001b[0m: video system not initialized"
     ]
    }
   ],
   "source": [
    "# Import Necessary Libraries\n",
    "import pygame  \n",
    "  \n",
    "# Initialize required modules\n",
    "pygame.init()  \n",
    "\n",
    "# Setup window geometry\n",
    "screen = pygame.display.set_mode((400,500))  \n",
    "\n",
    "# Create a loop to run till the game is quit by the user\n",
    "done = False  \n",
    "  \n",
    "while not done: \n",
    "\n",
    "\t# Clear the event queue\n",
    "\tfor event in pygame.event.get():  \n",
    "\t\tif event.type == pygame.QUIT:  \n",
    "\t\t\tpygame.quit()\n",
    "\t\n",
    "\t# Make the changes visible\n",
    "\tpygame.display.flip()  "
   ]
  },
  {
   "cell_type": "code",
   "execution_count": 1,
   "metadata": {},
   "outputs": [
    {
     "name": "stdout",
     "output_type": "stream",
     "text": [
      "pygame 2.6.1 (SDL 2.28.4, Python 3.12.4)\n",
      "Hello from the pygame community. https://www.pygame.org/contribute.html\n"
     ]
    },
    {
     "ename": "error",
     "evalue": "video system not initialized",
     "output_type": "error",
     "traceback": [
      "\u001b[1;31m---------------------------------------------------------------------------\u001b[0m",
      "\u001b[1;31merror\u001b[0m                                     Traceback (most recent call last)",
      "Cell \u001b[1;32mIn[1], line 41\u001b[0m\n\u001b[0;32m     38\u001b[0m \t\tquit()  \n\u001b[0;32m     40\u001b[0m \u001b[38;5;66;03m# Part of event loop\u001b[39;00m\n\u001b[1;32m---> 41\u001b[0m pygame\u001b[38;5;241m.\u001b[39mdisplay\u001b[38;5;241m.\u001b[39mflip()\n\u001b[0;32m     42\u001b[0m clock\u001b[38;5;241m.\u001b[39mtick(\u001b[38;5;241m30\u001b[39m)\n",
      "\u001b[1;31merror\u001b[0m: video system not initialized"
     ]
    },
    {
     "ename": "",
     "evalue": "",
     "output_type": "error",
     "traceback": [
      "\u001b[1;31mThe Kernel crashed while executing code in the current cell or a previous cell. \n",
      "\u001b[1;31mPlease review the code in the cell(s) to identify a possible cause of the failure. \n",
      "\u001b[1;31mClick <a href='https://aka.ms/vscodeJupyterKernelCrash'>here</a> for more info. \n",
      "\u001b[1;31mView Jupyter <a href='command:jupyter.viewOutput'>log</a> for further details."
     ]
    }
   ],
   "source": [
    "# Import necessary libraries\n",
    "import pygame  \n",
    "import turtle\n",
    "pygame.init()  \n",
    "white = (255, 255, 255)  \n",
    "\n",
    "# Clock\n",
    "clock = pygame.time.Clock()\n",
    "  \n",
    "# creating the display surface object   \n",
    "# of specific dimension..e(X, Y).   \n",
    "display_surface = pygame.display.set_mode((500, 500))  \n",
    "  \n",
    "# set the pygame window name   \n",
    "pygame.display.set_caption('Image')  \n",
    "  \n",
    "# creating a surface object, image is drawn on it.   \n",
    "image = pygame.image.load('turtle.png')  \n",
    "\n",
    "# Set the size for the image\n",
    "DEFAULT_IMAGE_SIZE = (200, 200)\n",
    "  \n",
    "# Scale the image to your needed size\n",
    "image = pygame.transform.scale(image, DEFAULT_IMAGE_SIZE)\n",
    "\n",
    "# Set a default position\n",
    "DEFAULT_IMAGE_POSITION = (150,150)\n",
    "\n",
    "# infinite loop   \n",
    "while True:  \n",
    "\tdisplay_surface.fill(white)  \n",
    "\tdisplay_surface.blit(image, DEFAULT_IMAGE_POSITION)  \n",
    "\n",
    "\tfor event in pygame.event.get():  \n",
    "\t\tif event.type == pygame.QUIT:  \n",
    "\t\t\tpygame.quit()  \n",
    "\t\t\t# quit the program.   \n",
    "\t\t\tquit()  \n",
    "\t\t\n",
    "\t# Part of event loop\n",
    "\tpygame.display.flip()\n",
    "\tclock.tick(30)"
   ]
  },
  {
   "cell_type": "code",
   "execution_count": 1,
   "metadata": {},
   "outputs": [
    {
     "name": "stdout",
     "output_type": "stream",
     "text": [
      "pygame 2.6.1 (SDL 2.28.4, Python 3.12.4)\n",
      "Hello from the pygame community. https://www.pygame.org/contribute.html\n"
     ]
    },
    {
     "ename": "",
     "evalue": "",
     "output_type": "error",
     "traceback": [
      "\u001b[1;31mThe Kernel crashed while executing code in the current cell or a previous cell. \n",
      "\u001b[1;31mPlease review the code in the cell(s) to identify a possible cause of the failure. \n",
      "\u001b[1;31mClick <a href='https://aka.ms/vscodeJupyterKernelCrash'>here</a> for more info. \n",
      "\u001b[1;31mView Jupyter <a href='command:jupyter.viewOutput'>log</a> for further details."
     ]
    }
   ],
   "source": [
    "# import necessary libraries\n",
    "import pygame  \n",
    "pygame.init()  \n",
    "screen = pygame.display.set_mode((640, 480))  \n",
    "done = False  \n",
    "  \n",
    "#load the fonts  \n",
    "font = pygame.font.SysFont(\"Times new Roman\", 72)  \n",
    "# Render the text in new surface  \n",
    "text = font.render(\"Hello, Pygame\", True, (158, 16, 16))  \n",
    "while not done:  \n",
    "    for event in pygame.event.get():  \n",
    "        if event.type == pygame.QUIT:  \n",
    "            done = True  \n",
    "        if event.type == pygame.KEYDOWN and event.key == pygame.K_ESCAPE:  \n",
    "            done = True  \n",
    "    screen.fill((255, 255, 255))  \n",
    "    #We will discuss blit() in the next topic  \n",
    "    screen.blit(text,(320 - text.get_width() // 2, 240 - text.get_height() // 2))  \n",
    "  \n",
    "    pygame.display.flip()  "
   ]
  },
  {
   "cell_type": "code",
   "execution_count": null,
   "metadata": {},
   "outputs": [],
   "source": []
  }
 ],
 "metadata": {
  "kernelspec": {
   "display_name": "base",
   "language": "python",
   "name": "python3"
  },
  "language_info": {
   "codemirror_mode": {
    "name": "ipython",
    "version": 3
   },
   "file_extension": ".py",
   "mimetype": "text/x-python",
   "name": "python",
   "nbconvert_exporter": "python",
   "pygments_lexer": "ipython3",
   "version": "3.12.4"
  }
 },
 "nbformat": 4,
 "nbformat_minor": 2
}
